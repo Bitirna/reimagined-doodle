{
  "nbformat": 4,
  "nbformat_minor": 0,
  "metadata": {
    "colab": {
      "name": "probability of cars.ipynb",
      "provenance": [],
      "authorship_tag": "ABX9TyOxXrjYez/6+kRSR8WAawJt",
      "include_colab_link": true
    },
    "kernelspec": {
      "name": "python3",
      "display_name": "Python 3"
    },
    "language_info": {
      "name": "python"
    }
  },
  "cells": [
    {
      "cell_type": "markdown",
      "metadata": {
        "id": "view-in-github",
        "colab_type": "text"
      },
      "source": [
        "<a href=\"https://colab.research.google.com/github/Bitirna/reimagined-doodle/blob/main/probability_of_cars.ipynb\" target=\"_parent\"><img src=\"https://colab.research.google.com/assets/colab-badge.svg\" alt=\"Open In Colab\"/></a>"
      ]
    },
    {
      "cell_type": "code",
      "execution_count": 25,
      "metadata": {
        "id": "cwLHVvj_GJ73"
      },
      "outputs": [],
      "source": [
        "import pandas as pd\n",
        "import numpy as np\n",
        "import statsmodels.api as sm\n",
        "import pylab as py\n",
        "import matplotlib.pyplot as plt"
      ]
    },
    {
      "cell_type": "code",
      "source": [
        "pd_car = pd.read_csv(\"/content/Cars (1).csv\")"
      ],
      "metadata": {
        "id": "ZTVxqHx6GpTN"
      },
      "execution_count": 2,
      "outputs": []
    },
    {
      "cell_type": "code",
      "source": [
        "pd_car.MPG.mean()"
      ],
      "metadata": {
        "colab": {
          "base_uri": "https://localhost:8080/"
        },
        "id": "1p0bNxMgGpYn",
        "outputId": "0a9800b9-5654-4721-b734-cf87d6221dde"
      },
      "execution_count": 5,
      "outputs": [
        {
          "output_type": "execute_result",
          "data": {
            "text/plain": [
              "34.422075728024666"
            ]
          },
          "metadata": {},
          "execution_count": 5
        }
      ]
    },
    {
      "cell_type": "code",
      "source": [
        "pd_car.MPG.std()"
      ],
      "metadata": {
        "colab": {
          "base_uri": "https://localhost:8080/"
        },
        "id": "NdJodaZiGpdd",
        "outputId": "ae40f718-19ae-4ed6-d8a3-57e9fb8c2549"
      },
      "execution_count": 6,
      "outputs": [
        {
          "output_type": "execute_result",
          "data": {
            "text/plain": [
              "9.131444731795982"
            ]
          },
          "metadata": {},
          "execution_count": 6
        }
      ]
    },
    {
      "cell_type": "code",
      "source": [
        "from scipy import stats"
      ],
      "metadata": {
        "id": "q8_P37pSGpm4"
      },
      "execution_count": 7,
      "outputs": []
    },
    {
      "cell_type": "markdown",
      "source": [
        "Let x=MPG"
      ],
      "metadata": {
        "id": "R2ZLyeNlKAjB"
      }
    },
    {
      "cell_type": "markdown",
      "source": [
        "Case 1: P(X>38) = 1-P(X<38)"
      ],
      "metadata": {
        "id": "dfO0_6VkJ4hq"
      }
    },
    {
      "cell_type": "code",
      "source": [
        "1- stats.norm.cdf(x=38,loc = pd_car.MPG.mean(), scale = pd_car.MPG.std())"
      ],
      "metadata": {
        "colab": {
          "base_uri": "https://localhost:8080/"
        },
        "id": "F0c8TIBRGpwV",
        "outputId": "4509b597-7c15-4c66-8a28-ca749458cd26"
      },
      "execution_count": 17,
      "outputs": [
        {
          "output_type": "execute_result",
          "data": {
            "text/plain": [
              "0.3475939251582705"
            ]
          },
          "metadata": {},
          "execution_count": 17
        }
      ]
    },
    {
      "cell_type": "markdown",
      "source": [
        "Case 2: P(X<40)\n",
        "\n",
        "\n",
        "```\n",
        "\n",
        "```\n",
        "\n"
      ],
      "metadata": {
        "id": "ROZAC1l3NeOj"
      }
    },
    {
      "cell_type": "code",
      "source": [
        "stats.norm.cdf(x=40,loc = pd_car.MPG.mean(), scale = pd_car.MPG.std())"
      ],
      "metadata": {
        "colab": {
          "base_uri": "https://localhost:8080/"
        },
        "id": "zsa5dk14N52j",
        "outputId": "fb688acd-d9e6-4872-bee0-345b8ccdde37"
      },
      "execution_count": 18,
      "outputs": [
        {
          "output_type": "execute_result",
          "data": {
            "text/plain": [
              "0.7293498762151616"
            ]
          },
          "metadata": {},
          "execution_count": 18
        }
      ]
    },
    {
      "cell_type": "markdown",
      "source": [
        "Case 3: P(20<X<50)"
      ],
      "metadata": {
        "id": "5brC878nOTZS"
      }
    },
    {
      "cell_type": "code",
      "source": [
        "stats.norm.cdf(x=50,loc = pd_car.MPG.mean(), scale = pd_car.MPG.std()) - stats.norm.cdf(x=20,loc = pd_car.MPG.mean(), scale = pd_car.MPG.std())"
      ],
      "metadata": {
        "colab": {
          "base_uri": "https://localhost:8080/"
        },
        "id": "c3VRE3V3ObmK",
        "outputId": "12fa3476-f165-40e4-f2f1-dae234bf825b"
      },
      "execution_count": 19,
      "outputs": [
        {
          "output_type": "execute_result",
          "data": {
            "text/plain": [
              "0.8988689169682046"
            ]
          },
          "metadata": {},
          "execution_count": 19
        }
      ]
    },
    {
      "cell_type": "code",
      "source": [
        "sm.qqplot(pd_car[\"MPG\"], line ='45')\n",
        "plt.xlim(-3,3)\n",
        "plt.ylim(0,80)\n",
        "py.show()"
      ],
      "metadata": {
        "id": "dZCiYdazVBsO",
        "outputId": "9ca9736f-ce44-4166-d3c9-ad19f72e85dd",
        "colab": {
          "base_uri": "https://localhost:8080/",
          "height": 282
        }
      },
      "execution_count": 33,
      "outputs": [
        {
          "output_type": "display_data",
          "data": {
            "text/plain": [
              "<Figure size 432x288 with 1 Axes>"
            ],
            "image/png": "[encoded data removed]"
          },
          "metadata": {
            "needs_background": "light"
          }
        }
      ]
    },
    {
      "cell_type": "code",
      "source": [
        "ad_wst = pd.read_csv(\"/content/wc-at.csv\")"
      ],
      "metadata": {
        "id": "Zog37UQNVByy"
      },
      "execution_count": 29,
      "outputs": []
    },
    {
      "cell_type": "code",
      "source": [
        "sm.qqplot(ad_wst[\"Waist\"], line ='45')\n",
        "plt.xlim(-3,3)\n",
        "plt.ylim(60,130)\n",
        "py.show()"
      ],
      "metadata": {
        "id": "swALQaqVVB4n",
        "outputId": "55ea999e-2905-4381-8b90-1205f169352e",
        "colab": {
          "base_uri": "https://localhost:8080/",
          "height": 282
        }
      },
      "execution_count": 32,
      "outputs": [
        {
          "output_type": "display_data",
          "data": {
            "text/plain": [
              "<Figure size 432x288 with 1 Axes>"
            ],
            "image/png": "[encoded data removed]"
          },
          "metadata": {
            "needs_background": "light"
          }
        }
      ]
    },
    {
      "cell_type": "code",
      "source": [
        "sm.qqplot(ad_wst[\"AT\"], line ='45')\n",
        "plt.xlim(-3,3)\n",
        "plt.ylim(0,300)\n",
        "py.show()"
      ],
      "metadata": {
        "id": "C5PpnfSObUGH",
        "outputId": "95775e08-6072-489b-ca79-ec452e4aa6f1",
        "colab": {
          "base_uri": "https://localhost:8080/",
          "height": 282
        }
      },
      "execution_count": 34,
      "outputs": [
        {
          "output_type": "display_data",
          "data": {
            "text/plain": [
              "<Figure size 432x288 with 1 Axes>"
            ],
            "image/png": "[encoded data removed]"
          },
          "metadata": {
            "needs_background": "light"
          }
        }
      ]
    },
    {
      "cell_type": "code",
      "source": [
        ""
      ],
      "metadata": {
        "id": "MpXWYVNKbUfK"
      },
      "execution_count": null,
      "outputs": []
    },
    {
      "cell_type": "code",
      "source": [
        ""
      ],
      "metadata": {
        "id": "IigBles-VDBP"
      },
      "execution_count": null,
      "outputs": []
    },
    {
      "cell_type": "code",
      "source": [
        ""
      ],
      "metadata": {
        "id": "EXw7I-rTVDII"
      },
      "execution_count": null,
      "outputs": []
    },
    {
      "cell_type": "code",
      "source": [
        ""
      ],
      "metadata": {
        "id": "wu7UK6PFVDPG"
      },
      "execution_count": null,
      "outputs": []
    },
    {
      "cell_type": "code",
      "source": [
        ""
      ],
      "metadata": {
        "id": "Y-ziyColVDU-"
      },
      "execution_count": null,
      "outputs": []
    }
  ]
}