{
  "nbformat": 4,
  "nbformat_minor": 0,
  "metadata": {
    "colab": {
      "name": "BEML and GLAXO case study.ipynb",
      "provenance": [],
      "authorship_tag": "ABX9TyME5FJn6UlMy90IBQIANfF/",
      "include_colab_link": true
    },
    "kernelspec": {
      "name": "python3",
      "display_name": "Python 3"
    },
    "language_info": {
      "name": "python"
    }
  },
  "cells": [
    {
      "cell_type": "markdown",
      "metadata": {
        "id": "view-in-github",
        "colab_type": "text"
      },
      "source": [
        "<a href=\"https://colab.research.google.com/github/Bitirna/reimagined-doodle/blob/main/BEML_and_GLAXO_case_study.ipynb\" target=\"_parent\"><img src=\"https://colab.research.google.com/assets/colab-badge.svg\" alt=\"Open In Colab\"/></a>"
      ]
    },
    {
      "cell_type": "code",
      "execution_count": 27,
      "metadata": {
        "id": "ZIb6spQRq875"
      },
      "outputs": [],
      "source": [
        "from scipy import stats\n",
        "import pandas as pd\n",
        "import numpy as np\n",
        "import matplotlib.pyplot as plt\n",
        "import seaborn as sn\n",
        "\n",
        "%matplotlib inline"
      ]
    },
    {
      "cell_type": "code",
      "source": [
        "df_beml = pd.read_csv(\"/content/BEML.csv\")"
      ],
      "metadata": {
        "id": "2QTgkgeVsKan"
      },
      "execution_count": 4,
      "outputs": []
    },
    {
      "cell_type": "code",
      "source": [
        "df_glaxo = pd.read_csv(\"/content/GLAXO.csv\")"
      ],
      "metadata": {
        "id": "3rEmUJYhsKwn"
      },
      "execution_count": 5,
      "outputs": []
    },
    {
      "cell_type": "code",
      "source": [
        "df_beml[0:5]"
      ],
      "metadata": {
        "colab": {
          "base_uri": "https://localhost:8080/",
          "height": 206
        },
        "id": "Qzbdm6gMsLEZ",
        "outputId": "3a543b66-1cc8-4d2e-8481-02cacd3a91e0"
      },
      "execution_count": 6,
      "outputs": [
        {
          "output_type": "execute_result",
          "data": {
            "text/plain": [
              "         Date    Open     High      Low    Last    Close  \\\n",
              "0  2010-01-04  1121.0  1151.00  1121.00  1134.0  1135.60   \n",
              "1  2010-01-05  1146.8  1149.00  1128.75  1135.0  1134.60   \n",
              "2  2010-01-06  1140.0  1164.25  1130.05  1137.0  1139.60   \n",
              "3  2010-01-07  1142.0  1159.40  1119.20  1141.0  1144.15   \n",
              "4  2010-01-08  1156.0  1172.00  1140.00  1141.2  1144.05   \n",
              "\n",
              "   Total Trade Quantity  Turnover (Lacs)  \n",
              "0              101651.0          1157.18  \n",
              "1               59504.0           676.47  \n",
              "2              128908.0          1482.84  \n",
              "3              117871.0          1352.98  \n",
              "4              170063.0          1971.42  "
            ],
            "text/html": [
              "\n",
              "  <div id=\"df-90375327-ac12-4ac3-ae9e-fe4cbfa998cb\">\n",
              "    <div class=\"colab-df-container\">\n",
              "      <div>\n",
              "<style scoped>\n",
              "    .dataframe tbody tr th:only-of-type {\n",
              "        vertical-align: middle;\n",
              "    }\n",
              "\n",
              "    .dataframe tbody tr th {\n",
              "        vertical-align: top;\n",
              "    }\n",
              "\n",
              "    .dataframe thead th {\n",
              "        text-align: right;\n",
              "    }\n",
              "</style>\n",
              "<table border=\"1\" class=\"dataframe\">\n",
              "  <thead>\n",
              "    <tr style=\"text-align: right;\">\n",
              "      <th></th>\n",
              "      <th>Date</th>\n",
              "      <th>Open</th>\n",
              "      <th>High</th>\n",
              "      <th>Low</th>\n",
              "      <th>Last</th>\n",
              "      <th>Close</th>\n",
              "      <th>Total Trade Quantity</th>\n",
              "      <th>Turnover (Lacs)</th>\n",
              "    </tr>\n",
              "  </thead>\n",
              "  <tbody>\n",
              "    <tr>\n",
              "      <th>0</th>\n",
              "      <td>2010-01-04</td>\n",
              "      <td>1121.0</td>\n",
              "      <td>1151.00</td>\n",
              "      <td>1121.00</td>\n",
              "      <td>1134.0</td>\n",
              "      <td>1135.60</td>\n",
              "      <td>101651.0</td>\n",
              "      <td>1157.18</td>\n",
              "    </tr>\n",
              "    <tr>\n",
              "      <th>1</th>\n",
              "      <td>2010-01-05</td>\n",
              "      <td>1146.8</td>\n",
              "      <td>1149.00</td>\n",
              "      <td>1128.75</td>\n",
              "      <td>1135.0</td>\n",
              "      <td>1134.60</td>\n",
              "      <td>59504.0</td>\n",
              "      <td>676.47</td>\n",
              "    </tr>\n",
              "    <tr>\n",
              "      <th>2</th>\n",
              "      <td>2010-01-06</td>\n",
              "      <td>1140.0</td>\n",
              "      <td>1164.25</td>\n",
              "      <td>1130.05</td>\n",
              "      <td>1137.0</td>\n",
              "      <td>1139.60</td>\n",
              "      <td>128908.0</td>\n",
              "      <td>1482.84</td>\n",
              "    </tr>\n",
              "    <tr>\n",
              "      <th>3</th>\n",
              "      <td>2010-01-07</td>\n",
              "      <td>1142.0</td>\n",
              "      <td>1159.40</td>\n",
              "      <td>1119.20</td>\n",
              "      <td>1141.0</td>\n",
              "      <td>1144.15</td>\n",
              "      <td>117871.0</td>\n",
              "      <td>1352.98</td>\n",
              "    </tr>\n",
              "    <tr>\n",
              "      <th>4</th>\n",
              "      <td>2010-01-08</td>\n",
              "      <td>1156.0</td>\n",
              "      <td>1172.00</td>\n",
              "      <td>1140.00</td>\n",
              "      <td>1141.2</td>\n",
              "      <td>1144.05</td>\n",
              "      <td>170063.0</td>\n",
              "      <td>1971.42</td>\n",
              "    </tr>\n",
              "  </tbody>\n",
              "</table>\n",
              "</div>\n",
              "      <button class=\"colab-df-convert\" onclick=\"convertToInteractive('df-90375327-ac12-4ac3-ae9e-fe4cbfa998cb')\"\n",
              "              title=\"Convert this dataframe to an interactive table.\"\n",
              "              style=\"display:none;\">\n",
              "        \n",
              "  <svg xmlns=\"http://www.w3.org/2000/svg\" height=\"24px\"viewBox=\"0 0 24 24\"\n",
              "       width=\"24px\">\n",
              "    <path d=\"M0 0h24v24H0V0z\" fill=\"none\"/>\n",
              "    <path d=\"M18.56 5.44l.94 2.06.94-2.06 2.06-.94-2.06-.94-.94-2.06-.94 2.06-2.06.94zm-11 1L8.5 8.5l.94-2.06 2.06-.94-2.06-.94L8.5 2.5l-.94 2.06-2.06.94zm10 10l.94 2.06.94-2.06 2.06-.94-2.06-.94-.94-2.06-.94 2.06-2.06.94z\"/><path d=\"M17.41 7.96l-1.37-1.37c-.4-.4-.92-.59-1.43-.59-.52 0-1.04.2-1.43.59L10.3 9.45l-7.72 7.72c-.78.78-.78 2.05 0 2.83L4 21.41c.39.39.9.59 1.41.59.51 0 1.02-.2 1.41-.59l7.78-7.78 2.81-2.81c.8-.78.8-2.07 0-2.86zM5.41 20L4 18.59l7.72-7.72 1.47 1.35L5.41 20z\"/>\n",
              "  </svg>\n",
              "      </button>\n",
              "      \n",
              "  <style>\n",
              "    .colab-df-container {\n",
              "      display:flex;\n",
              "      flex-wrap:wrap;\n",
              "      gap: 12px;\n",
              "    }\n",
              "\n",
              "    .colab-df-convert {\n",
              "      background-color: #E8F0FE;\n",
              "      border: none;\n",
              "      border-radius: 50%;\n",
              "      cursor: pointer;\n",
              "      display: none;\n",
              "      fill: #1967D2;\n",
              "      height: 32px;\n",
              "      padding: 0 0 0 0;\n",
              "      width: 32px;\n",
              "    }\n",
              "\n",
              "    .colab-df-convert:hover {\n",
              "      background-color: #E2EBFA;\n",
              "      box-shadow: 0px 1px 2px rgba(60, 64, 67, 0.3), 0px 1px 3px 1px rgba(60, 64, 67, 0.15);\n",
              "      fill: #174EA6;\n",
              "    }\n",
              "\n",
              "    [theme=dark] .colab-df-convert {\n",
              "      background-color: #3B4455;\n",
              "      fill: #D2E3FC;\n",
              "    }\n",
              "\n",
              "    [theme=dark] .colab-df-convert:hover {\n",
              "      background-color: #434B5C;\n",
              "      box-shadow: 0px 1px 3px 1px rgba(0, 0, 0, 0.15);\n",
              "      filter: drop-shadow(0px 1px 2px rgba(0, 0, 0, 0.3));\n",
              "      fill: #FFFFFF;\n",
              "    }\n",
              "  </style>\n",
              "\n",
              "      <script>\n",
              "        const buttonEl =\n",
              "          document.querySelector('#df-90375327-ac12-4ac3-ae9e-fe4cbfa998cb button.colab-df-convert');\n",
              "        buttonEl.style.display =\n",
              "          google.colab.kernel.accessAllowed ? 'block' : 'none';\n",
              "\n",
              "        async function convertToInteractive(key) {\n",
              "          const element = document.querySelector('#df-90375327-ac12-4ac3-ae9e-fe4cbfa998cb');\n",
              "          const dataTable =\n",
              "            await google.colab.kernel.invokeFunction('convertToInteractive',\n",
              "                                                     [key], {});\n",
              "          if (!dataTable) return;\n",
              "\n",
              "          const docLinkHtml = 'Like what you see? Visit the ' +\n",
              "            '<a target=\"_blank\" href=https://colab.research.google.com/notebooks/data_table.ipynb>data table notebook</a>'\n",
              "            + ' to learn more about interactive tables.';\n",
              "          element.innerHTML = '';\n",
              "          dataTable['output_type'] = 'display_data';\n",
              "          await google.colab.output.renderOutput(dataTable, element);\n",
              "          const docLink = document.createElement('div');\n",
              "          docLink.innerHTML = docLinkHtml;\n",
              "          element.appendChild(docLink);\n",
              "        }\n",
              "      </script>\n",
              "    </div>\n",
              "  </div>\n",
              "  "
            ]
          },
          "metadata": {},
          "execution_count": 6
        }
      ]
    },
    {
      "cell_type": "code",
      "source": [
        "df_beml[[\"Date\",\"Close\"]]"
      ],
      "metadata": {
        "colab": {
          "base_uri": "https://localhost:8080/",
          "height": 423
        },
        "id": "B7uThxqYtwOb",
        "outputId": "46ac2d76-3d0c-42a4-9813-523458cc6846"
      },
      "execution_count": 7,
      "outputs": [
        {
          "output_type": "execute_result",
          "data": {
            "text/plain": [
              "            Date    Close\n",
              "0     2010-01-04  1135.60\n",
              "1     2010-01-05  1134.60\n",
              "2     2010-01-06  1139.60\n",
              "3     2010-01-07  1144.15\n",
              "4     2010-01-08  1144.05\n",
              "...          ...      ...\n",
              "1734  2016-12-26   950.25\n",
              "1735  2016-12-27   975.70\n",
              "1736  2016-12-28   974.40\n",
              "1737  2016-12-29   986.05\n",
              "1738  2016-12-30  1000.60\n",
              "\n",
              "[1739 rows x 2 columns]"
            ],
            "text/html": [
              "\n",
              "  <div id=\"df-e269419d-c3d1-4980-83bf-5ad6298dd550\">\n",
              "    <div class=\"colab-df-container\">\n",
              "      <div>\n",
              "<style scoped>\n",
              "    .dataframe tbody tr th:only-of-type {\n",
              "        vertical-align: middle;\n",
              "    }\n",
              "\n",
              "    .dataframe tbody tr th {\n",
              "        vertical-align: top;\n",
              "    }\n",
              "\n",
              "    .dataframe thead th {\n",
              "        text-align: right;\n",
              "    }\n",
              "</style>\n",
              "<table border=\"1\" class=\"dataframe\">\n",
              "  <thead>\n",
              "    <tr style=\"text-align: right;\">\n",
              "      <th></th>\n",
              "      <th>Date</th>\n",
              "      <th>Close</th>\n",
              "    </tr>\n",
              "  </thead>\n",
              "  <tbody>\n",
              "    <tr>\n",
              "      <th>0</th>\n",
              "      <td>2010-01-04</td>\n",
              "      <td>1135.60</td>\n",
              "    </tr>\n",
              "    <tr>\n",
              "      <th>1</th>\n",
              "      <td>2010-01-05</td>\n",
              "      <td>1134.60</td>\n",
              "    </tr>\n",
              "    <tr>\n",
              "      <th>2</th>\n",
              "      <td>2010-01-06</td>\n",
              "      <td>1139.60</td>\n",
              "    </tr>\n",
              "    <tr>\n",
              "      <th>3</th>\n",
              "      <td>2010-01-07</td>\n",
              "      <td>1144.15</td>\n",
              "    </tr>\n",
              "    <tr>\n",
              "      <th>4</th>\n",
              "      <td>2010-01-08</td>\n",
              "      <td>1144.05</td>\n",
              "    </tr>\n",
              "    <tr>\n",
              "      <th>...</th>\n",
              "      <td>...</td>\n",
              "      <td>...</td>\n",
              "    </tr>\n",
              "    <tr>\n",
              "      <th>1734</th>\n",
              "      <td>2016-12-26</td>\n",
              "      <td>950.25</td>\n",
              "    </tr>\n",
              "    <tr>\n",
              "      <th>1735</th>\n",
              "      <td>2016-12-27</td>\n",
              "      <td>975.70</td>\n",
              "    </tr>\n",
              "    <tr>\n",
              "      <th>1736</th>\n",
              "      <td>2016-12-28</td>\n",
              "      <td>974.40</td>\n",
              "    </tr>\n",
              "    <tr>\n",
              "      <th>1737</th>\n",
              "      <td>2016-12-29</td>\n",
              "      <td>986.05</td>\n",
              "    </tr>\n",
              "    <tr>\n",
              "      <th>1738</th>\n",
              "      <td>2016-12-30</td>\n",
              "      <td>1000.60</td>\n",
              "    </tr>\n",
              "  </tbody>\n",
              "</table>\n",
              "<p>1739 rows × 2 columns</p>\n",
              "</div>\n",
              "      <button class=\"colab-df-convert\" onclick=\"convertToInteractive('df-e269419d-c3d1-4980-83bf-5ad6298dd550')\"\n",
              "              title=\"Convert this dataframe to an interactive table.\"\n",
              "              style=\"display:none;\">\n",
              "        \n",
              "  <svg xmlns=\"http://www.w3.org/2000/svg\" height=\"24px\"viewBox=\"0 0 24 24\"\n",
              "       width=\"24px\">\n",
              "    <path d=\"M0 0h24v24H0V0z\" fill=\"none\"/>\n",
              "    <path d=\"M18.56 5.44l.94 2.06.94-2.06 2.06-.94-2.06-.94-.94-2.06-.94 2.06-2.06.94zm-11 1L8.5 8.5l.94-2.06 2.06-.94-2.06-.94L8.5 2.5l-.94 2.06-2.06.94zm10 10l.94 2.06.94-2.06 2.06-.94-2.06-.94-.94-2.06-.94 2.06-2.06.94z\"/><path d=\"M17.41 7.96l-1.37-1.37c-.4-.4-.92-.59-1.43-.59-.52 0-1.04.2-1.43.59L10.3 9.45l-7.72 7.72c-.78.78-.78 2.05 0 2.83L4 21.41c.39.39.9.59 1.41.59.51 0 1.02-.2 1.41-.59l7.78-7.78 2.81-2.81c.8-.78.8-2.07 0-2.86zM5.41 20L4 18.59l7.72-7.72 1.47 1.35L5.41 20z\"/>\n",
              "  </svg>\n",
              "      </button>\n",
              "      \n",
              "  <style>\n",
              "    .colab-df-container {\n",
              "      display:flex;\n",
              "      flex-wrap:wrap;\n",
              "      gap: 12px;\n",
              "    }\n",
              "\n",
              "    .colab-df-convert {\n",
              "      background-color: #E8F0FE;\n",
              "      border: none;\n",
              "      border-radius: 50%;\n",
              "      cursor: pointer;\n",
              "      display: none;\n",
              "      fill: #1967D2;\n",
              "      height: 32px;\n",
              "      padding: 0 0 0 0;\n",
              "      width: 32px;\n",
              "    }\n",
              "\n",
              "    .colab-df-convert:hover {\n",
              "      background-color: #E2EBFA;\n",
              "      box-shadow: 0px 1px 2px rgba(60, 64, 67, 0.3), 0px 1px 3px 1px rgba(60, 64, 67, 0.15);\n",
              "      fill: #174EA6;\n",
              "    }\n",
              "\n",
              "    [theme=dark] .colab-df-convert {\n",
              "      background-color: #3B4455;\n",
              "      fill: #D2E3FC;\n",
              "    }\n",
              "\n",
              "    [theme=dark] .colab-df-convert:hover {\n",
              "      background-color: #434B5C;\n",
              "      box-shadow: 0px 1px 3px 1px rgba(0, 0, 0, 0.15);\n",
              "      filter: drop-shadow(0px 1px 2px rgba(0, 0, 0, 0.3));\n",
              "      fill: #FFFFFF;\n",
              "    }\n",
              "  </style>\n",
              "\n",
              "      <script>\n",
              "        const buttonEl =\n",
              "          document.querySelector('#df-e269419d-c3d1-4980-83bf-5ad6298dd550 button.colab-df-convert');\n",
              "        buttonEl.style.display =\n",
              "          google.colab.kernel.accessAllowed ? 'block' : 'none';\n",
              "\n",
              "        async function convertToInteractive(key) {\n",
              "          const element = document.querySelector('#df-e269419d-c3d1-4980-83bf-5ad6298dd550');\n",
              "          const dataTable =\n",
              "            await google.colab.kernel.invokeFunction('convertToInteractive',\n",
              "                                                     [key], {});\n",
              "          if (!dataTable) return;\n",
              "\n",
              "          const docLinkHtml = 'Like what you see? Visit the ' +\n",
              "            '<a target=\"_blank\" href=https://colab.research.google.com/notebooks/data_table.ipynb>data table notebook</a>'\n",
              "            + ' to learn more about interactive tables.';\n",
              "          element.innerHTML = '';\n",
              "          dataTable['output_type'] = 'display_data';\n",
              "          await google.colab.output.renderOutput(dataTable, element);\n",
              "          const docLink = document.createElement('div');\n",
              "          docLink.innerHTML = docLinkHtml;\n",
              "          element.appendChild(docLink);\n",
              "        }\n",
              "      </script>\n",
              "    </div>\n",
              "  </div>\n",
              "  "
            ]
          },
          "metadata": {},
          "execution_count": 7
        }
      ]
    },
    {
      "cell_type": "code",
      "source": [
        "df_glaxo[[\"Date\",\"Close\"]]"
      ],
      "metadata": {
        "colab": {
          "base_uri": "https://localhost:8080/",
          "height": 423
        },
        "id": "P44gFRe0t7YI",
        "outputId": "825eecff-7d31-45e4-a8e3-cfa50d515c76"
      },
      "execution_count": 8,
      "outputs": [
        {
          "output_type": "execute_result",
          "data": {
            "text/plain": [
              "            Date    Close\n",
              "0     2010-01-04  1625.65\n",
              "1     2010-01-05  1616.80\n",
              "2     2010-01-06  1638.50\n",
              "3     2010-01-07  1648.70\n",
              "4     2010-01-08  1639.80\n",
              "...          ...      ...\n",
              "1734  2016-12-26  2723.50\n",
              "1735  2016-12-27  2701.75\n",
              "1736  2016-12-28  2702.15\n",
              "1737  2016-12-29  2727.90\n",
              "1738  2016-12-30  2729.80\n",
              "\n",
              "[1739 rows x 2 columns]"
            ],
            "text/html": [
              "\n",
              "  <div id=\"df-4e43556c-90de-4528-9e90-05b29c4c79e8\">\n",
              "    <div class=\"colab-df-container\">\n",
              "      <div>\n",
              "<style scoped>\n",
              "    .dataframe tbody tr th:only-of-type {\n",
              "        vertical-align: middle;\n",
              "    }\n",
              "\n",
              "    .dataframe tbody tr th {\n",
              "        vertical-align: top;\n",
              "    }\n",
              "\n",
              "    .dataframe thead th {\n",
              "        text-align: right;\n",
              "    }\n",
              "</style>\n",
              "<table border=\"1\" class=\"dataframe\">\n",
              "  <thead>\n",
              "    <tr style=\"text-align: right;\">\n",
              "      <th></th>\n",
              "      <th>Date</th>\n",
              "      <th>Close</th>\n",
              "    </tr>\n",
              "  </thead>\n",
              "  <tbody>\n",
              "    <tr>\n",
              "      <th>0</th>\n",
              "      <td>2010-01-04</td>\n",
              "      <td>1625.65</td>\n",
              "    </tr>\n",
              "    <tr>\n",
              "      <th>1</th>\n",
              "      <td>2010-01-05</td>\n",
              "      <td>1616.80</td>\n",
              "    </tr>\n",
              "    <tr>\n",
              "      <th>2</th>\n",
              "      <td>2010-01-06</td>\n",
              "      <td>1638.50</td>\n",
              "    </tr>\n",
              "    <tr>\n",
              "      <th>3</th>\n",
              "      <td>2010-01-07</td>\n",
              "      <td>1648.70</td>\n",
              "    </tr>\n",
              "    <tr>\n",
              "      <th>4</th>\n",
              "      <td>2010-01-08</td>\n",
              "      <td>1639.80</td>\n",
              "    </tr>\n",
              "    <tr>\n",
              "      <th>...</th>\n",
              "      <td>...</td>\n",
              "      <td>...</td>\n",
              "    </tr>\n",
              "    <tr>\n",
              "      <th>1734</th>\n",
              "      <td>2016-12-26</td>\n",
              "      <td>2723.50</td>\n",
              "    </tr>\n",
              "    <tr>\n",
              "      <th>1735</th>\n",
              "      <td>2016-12-27</td>\n",
              "      <td>2701.75</td>\n",
              "    </tr>\n",
              "    <tr>\n",
              "      <th>1736</th>\n",
              "      <td>2016-12-28</td>\n",
              "      <td>2702.15</td>\n",
              "    </tr>\n",
              "    <tr>\n",
              "      <th>1737</th>\n",
              "      <td>2016-12-29</td>\n",
              "      <td>2727.90</td>\n",
              "    </tr>\n",
              "    <tr>\n",
              "      <th>1738</th>\n",
              "      <td>2016-12-30</td>\n",
              "      <td>2729.80</td>\n",
              "    </tr>\n",
              "  </tbody>\n",
              "</table>\n",
              "<p>1739 rows × 2 columns</p>\n",
              "</div>\n",
              "      <button class=\"colab-df-convert\" onclick=\"convertToInteractive('df-4e43556c-90de-4528-9e90-05b29c4c79e8')\"\n",
              "              title=\"Convert this dataframe to an interactive table.\"\n",
              "              style=\"display:none;\">\n",
              "        \n",
              "  <svg xmlns=\"http://www.w3.org/2000/svg\" height=\"24px\"viewBox=\"0 0 24 24\"\n",
              "       width=\"24px\">\n",
              "    <path d=\"M0 0h24v24H0V0z\" fill=\"none\"/>\n",
              "    <path d=\"M18.56 5.44l.94 2.06.94-2.06 2.06-.94-2.06-.94-.94-2.06-.94 2.06-2.06.94zm-11 1L8.5 8.5l.94-2.06 2.06-.94-2.06-.94L8.5 2.5l-.94 2.06-2.06.94zm10 10l.94 2.06.94-2.06 2.06-.94-2.06-.94-.94-2.06-.94 2.06-2.06.94z\"/><path d=\"M17.41 7.96l-1.37-1.37c-.4-.4-.92-.59-1.43-.59-.52 0-1.04.2-1.43.59L10.3 9.45l-7.72 7.72c-.78.78-.78 2.05 0 2.83L4 21.41c.39.39.9.59 1.41.59.51 0 1.02-.2 1.41-.59l7.78-7.78 2.81-2.81c.8-.78.8-2.07 0-2.86zM5.41 20L4 18.59l7.72-7.72 1.47 1.35L5.41 20z\"/>\n",
              "  </svg>\n",
              "      </button>\n",
              "      \n",
              "  <style>\n",
              "    .colab-df-container {\n",
              "      display:flex;\n",
              "      flex-wrap:wrap;\n",
              "      gap: 12px;\n",
              "    }\n",
              "\n",
              "    .colab-df-convert {\n",
              "      background-color: #E8F0FE;\n",
              "      border: none;\n",
              "      border-radius: 50%;\n",
              "      cursor: pointer;\n",
              "      display: none;\n",
              "      fill: #1967D2;\n",
              "      height: 32px;\n",
              "      padding: 0 0 0 0;\n",
              "      width: 32px;\n",
              "    }\n",
              "\n",
              "    .colab-df-convert:hover {\n",
              "      background-color: #E2EBFA;\n",
              "      box-shadow: 0px 1px 2px rgba(60, 64, 67, 0.3), 0px 1px 3px 1px rgba(60, 64, 67, 0.15);\n",
              "      fill: #174EA6;\n",
              "    }\n",
              "\n",
              "    [theme=dark] .colab-df-convert {\n",
              "      background-color: #3B4455;\n",
              "      fill: #D2E3FC;\n",
              "    }\n",
              "\n",
              "    [theme=dark] .colab-df-convert:hover {\n",
              "      background-color: #434B5C;\n",
              "      box-shadow: 0px 1px 3px 1px rgba(0, 0, 0, 0.15);\n",
              "      filter: drop-shadow(0px 1px 2px rgba(0, 0, 0, 0.3));\n",
              "      fill: #FFFFFF;\n",
              "    }\n",
              "  </style>\n",
              "\n",
              "      <script>\n",
              "        const buttonEl =\n",
              "          document.querySelector('#df-4e43556c-90de-4528-9e90-05b29c4c79e8 button.colab-df-convert');\n",
              "        buttonEl.style.display =\n",
              "          google.colab.kernel.accessAllowed ? 'block' : 'none';\n",
              "\n",
              "        async function convertToInteractive(key) {\n",
              "          const element = document.querySelector('#df-4e43556c-90de-4528-9e90-05b29c4c79e8');\n",
              "          const dataTable =\n",
              "            await google.colab.kernel.invokeFunction('convertToInteractive',\n",
              "                                                     [key], {});\n",
              "          if (!dataTable) return;\n",
              "\n",
              "          const docLinkHtml = 'Like what you see? Visit the ' +\n",
              "            '<a target=\"_blank\" href=https://colab.research.google.com/notebooks/data_table.ipynb>data table notebook</a>'\n",
              "            + ' to learn more about interactive tables.';\n",
              "          element.innerHTML = '';\n",
              "          dataTable['output_type'] = 'display_data';\n",
              "          await google.colab.output.renderOutput(dataTable, element);\n",
              "          const docLink = document.createElement('div');\n",
              "          docLink.innerHTML = docLinkHtml;\n",
              "          element.appendChild(docLink);\n",
              "        }\n",
              "      </script>\n",
              "    </div>\n",
              "  </div>\n",
              "  "
            ]
          },
          "metadata": {},
          "execution_count": 8
        }
      ]
    },
    {
      "cell_type": "code",
      "source": [
        "df_glaxo = df_glaxo.set_index(pd.DatetimeIndex(df_glaxo[\"Date\"]))\n",
        "df_beml = df_beml.set_index(pd.DatetimeIndex(df_beml[\"Date\"]))"
      ],
      "metadata": {
        "id": "Qc7MVvgDuutf"
      },
      "execution_count": 21,
      "outputs": []
    },
    {
      "cell_type": "code",
      "source": [
        "df_glaxo"
      ],
      "metadata": {
        "colab": {
          "base_uri": "https://localhost:8080/",
          "height": 455
        },
        "id": "6H8pb4MKy4QW",
        "outputId": "e27dbf70-4d30-470e-b33f-0b4160c7cd24"
      },
      "execution_count": 20,
      "outputs": [
        {
          "output_type": "execute_result",
          "data": {
            "text/plain": [
              "                  Date     Open     High      Low    Last    Close  \\\n",
              "Date                                                                 \n",
              "2010-01-05  2010-01-05  1639.95  1639.95  1611.05  1620.0  1616.80   \n",
              "2010-01-06  2010-01-06  1618.00  1644.00  1617.00  1639.0  1638.50   \n",
              "2010-01-07  2010-01-07  1645.00  1654.00  1636.00  1648.0  1648.70   \n",
              "2010-01-08  2010-01-08  1650.00  1650.00  1626.55  1640.0  1639.80   \n",
              "2010-01-11  2010-01-11  1659.00  1694.95  1601.05  1630.0  1629.45   \n",
              "...                ...      ...      ...      ...     ...      ...   \n",
              "2016-12-26  2016-12-26  2703.00  2740.00  2677.00  2715.0  2723.50   \n",
              "2016-12-27  2016-12-27  2722.95  2725.00  2683.00  2692.0  2701.75   \n",
              "2016-12-28  2016-12-28  2701.75  2718.00  2690.00  2698.0  2702.15   \n",
              "2016-12-29  2016-12-29  2702.05  2739.00  2691.95  2710.0  2727.90   \n",
              "2016-12-30  2016-12-30  2730.00  2740.45  2705.00  2730.0  2729.80   \n",
              "\n",
              "            Total Trade Quantity  Turnover (Lacs)      Gain  \n",
              "Date                                                         \n",
              "2010-01-05               38148.0           622.58 -0.005444  \n",
              "2010-01-06               36519.0           595.09  0.013422  \n",
              "2010-01-07               12809.0           211.00  0.006225  \n",
              "2010-01-08               28035.0           459.11 -0.005398  \n",
              "2010-01-11               10566.0           173.40 -0.006312  \n",
              "...                          ...              ...       ...  \n",
              "2016-12-26                3953.0           107.15 -0.001283  \n",
              "2016-12-27               10600.0           286.10 -0.007986  \n",
              "2016-12-28                6050.0           163.44  0.000148  \n",
              "2016-12-29                7649.0           207.87  0.009529  \n",
              "2016-12-30                6513.0           177.65  0.000697  \n",
              "\n",
              "[1738 rows x 9 columns]"
            ],
            "text/html": [
              "\n",
              "  <div id=\"df-03cd3bb7-8e12-4e11-8734-16e7592db9b5\">\n",
              "    <div class=\"colab-df-container\">\n",
              "      <div>\n",
              "<style scoped>\n",
              "    .dataframe tbody tr th:only-of-type {\n",
              "        vertical-align: middle;\n",
              "    }\n",
              "\n",
              "    .dataframe tbody tr th {\n",
              "        vertical-align: top;\n",
              "    }\n",
              "\n",
              "    .dataframe thead th {\n",
              "        text-align: right;\n",
              "    }\n",
              "</style>\n",
              "<table border=\"1\" class=\"dataframe\">\n",
              "  <thead>\n",
              "    <tr style=\"text-align: right;\">\n",
              "      <th></th>\n",
              "      <th>Date</th>\n",
              "      <th>Open</th>\n",
              "      <th>High</th>\n",
              "      <th>Low</th>\n",
              "      <th>Last</th>\n",
              "      <th>Close</th>\n",
              "      <th>Total Trade Quantity</th>\n",
              "      <th>Turnover (Lacs)</th>\n",
              "      <th>Gain</th>\n",
              "    </tr>\n",
              "    <tr>\n",
              "      <th>Date</th>\n",
              "      <th></th>\n",
              "      <th></th>\n",
              "      <th></th>\n",
              "      <th></th>\n",
              "      <th></th>\n",
              "      <th></th>\n",
              "      <th></th>\n",
              "      <th></th>\n",
              "      <th></th>\n",
              "    </tr>\n",
              "  </thead>\n",
              "  <tbody>\n",
              "    <tr>\n",
              "      <th>2010-01-05</th>\n",
              "      <td>2010-01-05</td>\n",
              "      <td>1639.95</td>\n",
              "      <td>1639.95</td>\n",
              "      <td>1611.05</td>\n",
              "      <td>1620.0</td>\n",
              "      <td>1616.80</td>\n",
              "      <td>38148.0</td>\n",
              "      <td>622.58</td>\n",
              "      <td>-0.005444</td>\n",
              "    </tr>\n",
              "    <tr>\n",
              "      <th>2010-01-06</th>\n",
              "      <td>2010-01-06</td>\n",
              "      <td>1618.00</td>\n",
              "      <td>1644.00</td>\n",
              "      <td>1617.00</td>\n",
              "      <td>1639.0</td>\n",
              "      <td>1638.50</td>\n",
              "      <td>36519.0</td>\n",
              "      <td>595.09</td>\n",
              "      <td>0.013422</td>\n",
              "    </tr>\n",
              "    <tr>\n",
              "      <th>2010-01-07</th>\n",
              "      <td>2010-01-07</td>\n",
              "      <td>1645.00</td>\n",
              "      <td>1654.00</td>\n",
              "      <td>1636.00</td>\n",
              "      <td>1648.0</td>\n",
              "      <td>1648.70</td>\n",
              "      <td>12809.0</td>\n",
              "      <td>211.00</td>\n",
              "      <td>0.006225</td>\n",
              "    </tr>\n",
              "    <tr>\n",
              "      <th>2010-01-08</th>\n",
              "      <td>2010-01-08</td>\n",
              "      <td>1650.00</td>\n",
              "      <td>1650.00</td>\n",
              "      <td>1626.55</td>\n",
              "      <td>1640.0</td>\n",
              "      <td>1639.80</td>\n",
              "      <td>28035.0</td>\n",
              "      <td>459.11</td>\n",
              "      <td>-0.005398</td>\n",
              "    </tr>\n",
              "    <tr>\n",
              "      <th>2010-01-11</th>\n",
              "      <td>2010-01-11</td>\n",
              "      <td>1659.00</td>\n",
              "      <td>1694.95</td>\n",
              "      <td>1601.05</td>\n",
              "      <td>1630.0</td>\n",
              "      <td>1629.45</td>\n",
              "      <td>10566.0</td>\n",
              "      <td>173.40</td>\n",
              "      <td>-0.006312</td>\n",
              "    </tr>\n",
              "    <tr>\n",
              "      <th>...</th>\n",
              "      <td>...</td>\n",
              "      <td>...</td>\n",
              "      <td>...</td>\n",
              "      <td>...</td>\n",
              "      <td>...</td>\n",
              "      <td>...</td>\n",
              "      <td>...</td>\n",
              "      <td>...</td>\n",
              "      <td>...</td>\n",
              "    </tr>\n",
              "    <tr>\n",
              "      <th>2016-12-26</th>\n",
              "      <td>2016-12-26</td>\n",
              "      <td>2703.00</td>\n",
              "      <td>2740.00</td>\n",
              "      <td>2677.00</td>\n",
              "      <td>2715.0</td>\n",
              "      <td>2723.50</td>\n",
              "      <td>3953.0</td>\n",
              "      <td>107.15</td>\n",
              "      <td>-0.001283</td>\n",
              "    </tr>\n",
              "    <tr>\n",
              "      <th>2016-12-27</th>\n",
              "      <td>2016-12-27</td>\n",
              "      <td>2722.95</td>\n",
              "      <td>2725.00</td>\n",
              "      <td>2683.00</td>\n",
              "      <td>2692.0</td>\n",
              "      <td>2701.75</td>\n",
              "      <td>10600.0</td>\n",
              "      <td>286.10</td>\n",
              "      <td>-0.007986</td>\n",
              "    </tr>\n",
              "    <tr>\n",
              "      <th>2016-12-28</th>\n",
              "      <td>2016-12-28</td>\n",
              "      <td>2701.75</td>\n",
              "      <td>2718.00</td>\n",
              "      <td>2690.00</td>\n",
              "      <td>2698.0</td>\n",
              "      <td>2702.15</td>\n",
              "      <td>6050.0</td>\n",
              "      <td>163.44</td>\n",
              "      <td>0.000148</td>\n",
              "    </tr>\n",
              "    <tr>\n",
              "      <th>2016-12-29</th>\n",
              "      <td>2016-12-29</td>\n",
              "      <td>2702.05</td>\n",
              "      <td>2739.00</td>\n",
              "      <td>2691.95</td>\n",
              "      <td>2710.0</td>\n",
              "      <td>2727.90</td>\n",
              "      <td>7649.0</td>\n",
              "      <td>207.87</td>\n",
              "      <td>0.009529</td>\n",
              "    </tr>\n",
              "    <tr>\n",
              "      <th>2016-12-30</th>\n",
              "      <td>2016-12-30</td>\n",
              "      <td>2730.00</td>\n",
              "      <td>2740.45</td>\n",
              "      <td>2705.00</td>\n",
              "      <td>2730.0</td>\n",
              "      <td>2729.80</td>\n",
              "      <td>6513.0</td>\n",
              "      <td>177.65</td>\n",
              "      <td>0.000697</td>\n",
              "    </tr>\n",
              "  </tbody>\n",
              "</table>\n",
              "<p>1738 rows × 9 columns</p>\n",
              "</div>\n",
              "      <button class=\"colab-df-convert\" onclick=\"convertToInteractive('df-03cd3bb7-8e12-4e11-8734-16e7592db9b5')\"\n",
              "              title=\"Convert this dataframe to an interactive table.\"\n",
              "              style=\"display:none;\">\n",
              "        \n",
              "  <svg xmlns=\"http://www.w3.org/2000/svg\" height=\"24px\"viewBox=\"0 0 24 24\"\n",
              "       width=\"24px\">\n",
              "    <path d=\"M0 0h24v24H0V0z\" fill=\"none\"/>\n",
              "    <path d=\"M18.56 5.44l.94 2.06.94-2.06 2.06-.94-2.06-.94-.94-2.06-.94 2.06-2.06.94zm-11 1L8.5 8.5l.94-2.06 2.06-.94-2.06-.94L8.5 2.5l-.94 2.06-2.06.94zm10 10l.94 2.06.94-2.06 2.06-.94-2.06-.94-.94-2.06-.94 2.06-2.06.94z\"/><path d=\"M17.41 7.96l-1.37-1.37c-.4-.4-.92-.59-1.43-.59-.52 0-1.04.2-1.43.59L10.3 9.45l-7.72 7.72c-.78.78-.78 2.05 0 2.83L4 21.41c.39.39.9.59 1.41.59.51 0 1.02-.2 1.41-.59l7.78-7.78 2.81-2.81c.8-.78.8-2.07 0-2.86zM5.41 20L4 18.59l7.72-7.72 1.47 1.35L5.41 20z\"/>\n",
              "  </svg>\n",
              "      </button>\n",
              "      \n",
              "  <style>\n",
              "    .colab-df-container {\n",
              "      display:flex;\n",
              "      flex-wrap:wrap;\n",
              "      gap: 12px;\n",
              "    }\n",
              "\n",
              "    .colab-df-convert {\n",
              "      background-color: #E8F0FE;\n",
              "      border: none;\n",
              "      border-radius: 50%;\n",
              "      cursor: pointer;\n",
              "      display: none;\n",
              "      fill: #1967D2;\n",
              "      height: 32px;\n",
              "      padding: 0 0 0 0;\n",
              "      width: 32px;\n",
              "    }\n",
              "\n",
              "    .colab-df-convert:hover {\n",
              "      background-color: #E2EBFA;\n",
              "      box-shadow: 0px 1px 2px rgba(60, 64, 67, 0.3), 0px 1px 3px 1px rgba(60, 64, 67, 0.15);\n",
              "      fill: #174EA6;\n",
              "    }\n",
              "\n",
              "    [theme=dark] .colab-df-convert {\n",
              "      background-color: #3B4455;\n",
              "      fill: #D2E3FC;\n",
              "    }\n",
              "\n",
              "    [theme=dark] .colab-df-convert:hover {\n",
              "      background-color: #434B5C;\n",
              "      box-shadow: 0px 1px 3px 1px rgba(0, 0, 0, 0.15);\n",
              "      filter: drop-shadow(0px 1px 2px rgba(0, 0, 0, 0.3));\n",
              "      fill: #FFFFFF;\n",
              "    }\n",
              "  </style>\n",
              "\n",
              "      <script>\n",
              "        const buttonEl =\n",
              "          document.querySelector('#df-03cd3bb7-8e12-4e11-8734-16e7592db9b5 button.colab-df-convert');\n",
              "        buttonEl.style.display =\n",
              "          google.colab.kernel.accessAllowed ? 'block' : 'none';\n",
              "\n",
              "        async function convertToInteractive(key) {\n",
              "          const element = document.querySelector('#df-03cd3bb7-8e12-4e11-8734-16e7592db9b5');\n",
              "          const dataTable =\n",
              "            await google.colab.kernel.invokeFunction('convertToInteractive',\n",
              "                                                     [key], {});\n",
              "          if (!dataTable) return;\n",
              "\n",
              "          const docLinkHtml = 'Like what you see? Visit the ' +\n",
              "            '<a target=\"_blank\" href=https://colab.research.google.com/notebooks/data_table.ipynb>data table notebook</a>'\n",
              "            + ' to learn more about interactive tables.';\n",
              "          element.innerHTML = '';\n",
              "          dataTable['output_type'] = 'display_data';\n",
              "          await google.colab.output.renderOutput(dataTable, element);\n",
              "          const docLink = document.createElement('div');\n",
              "          docLink.innerHTML = docLinkHtml;\n",
              "          element.appendChild(docLink);\n",
              "        }\n",
              "      </script>\n",
              "    </div>\n",
              "  </div>\n",
              "  "
            ]
          },
          "metadata": {},
          "execution_count": 20
        }
      ]
    },
    {
      "cell_type": "code",
      "source": [
        "plt.plot(df_glaxo.Close)\n",
        "plt.xlabel('Time')\n",
        "plt.ylabel('Close price')"
      ],
      "metadata": {
        "colab": {
          "base_uri": "https://localhost:8080/",
          "height": 296
        },
        "id": "bjWZuOXJv9bB",
        "outputId": "2ce930fc-9083-4ab9-9ced-e9b3e1759208"
      },
      "execution_count": 14,
      "outputs": [
        {
          "output_type": "execute_result",
          "data": {
            "text/plain": [
              "Text(0, 0.5, 'Close price')"
            ]
          },
          "metadata": {},
          "execution_count": 14
        },
        {
          "output_type": "display_data",
          "data": {
            "text/plain": [
              "<Figure size 432x288 with 1 Axes>"
            ],
            "image/png": "[encoded data removed]"
          },
          "metadata": {
            "needs_background": "light"
          }
        }
      ]
    },
    {
      "cell_type": "code",
      "source": [
        "plt.plot(df_beml.Close)\n",
        "plt.xlabel('Time')\n",
        "plt.ylabel('Close price')"
      ],
      "metadata": {
        "colab": {
          "base_uri": "https://localhost:8080/",
          "height": 296
        },
        "id": "E5UbQ-gBv9y1",
        "outputId": "76b632d9-cc29-47fb-8a86-4434602320fd"
      },
      "execution_count": 15,
      "outputs": [
        {
          "output_type": "execute_result",
          "data": {
            "text/plain": [
              "Text(0, 0.5, 'Close price')"
            ]
          },
          "metadata": {},
          "execution_count": 15
        },
        {
          "output_type": "display_data",
          "data": {
            "text/plain": [
              "<Figure size 432x288 with 1 Axes>"
            ],
            "image/png": "[encoded data removed]"
          },
          "metadata": {
            "needs_background": "light"
          }
        }
      ]
    },
    {
      "cell_type": "code",
      "source": [
        "df_glaxo[\"Gain\"] = df_glaxo.Close.pct_change(periods = 1)\n",
        "df_beml[\"Gain\"] = df_beml.Close.pct_change(periods = 1)"
      ],
      "metadata": {
        "id": "1W6HTvdVv-CT"
      },
      "execution_count": 17,
      "outputs": []
    },
    {
      "cell_type": "code",
      "source": [
        "df_glaxo"
      ],
      "metadata": {
        "colab": {
          "base_uri": "https://localhost:8080/",
          "height": 455
        },
        "id": "g07hsbtnymfg",
        "outputId": "600846fa-ae94-46be-88b7-35f86dd6b1e1"
      },
      "execution_count": 19,
      "outputs": [
        {
          "output_type": "execute_result",
          "data": {
            "text/plain": [
              "                  Date     Open     High      Low    Last    Close  \\\n",
              "Date                                                                 \n",
              "2010-01-05  2010-01-05  1639.95  1639.95  1611.05  1620.0  1616.80   \n",
              "2010-01-06  2010-01-06  1618.00  1644.00  1617.00  1639.0  1638.50   \n",
              "2010-01-07  2010-01-07  1645.00  1654.00  1636.00  1648.0  1648.70   \n",
              "2010-01-08  2010-01-08  1650.00  1650.00  1626.55  1640.0  1639.80   \n",
              "2010-01-11  2010-01-11  1659.00  1694.95  1601.05  1630.0  1629.45   \n",
              "...                ...      ...      ...      ...     ...      ...   \n",
              "2016-12-26  2016-12-26  2703.00  2740.00  2677.00  2715.0  2723.50   \n",
              "2016-12-27  2016-12-27  2722.95  2725.00  2683.00  2692.0  2701.75   \n",
              "2016-12-28  2016-12-28  2701.75  2718.00  2690.00  2698.0  2702.15   \n",
              "2016-12-29  2016-12-29  2702.05  2739.00  2691.95  2710.0  2727.90   \n",
              "2016-12-30  2016-12-30  2730.00  2740.45  2705.00  2730.0  2729.80   \n",
              "\n",
              "            Total Trade Quantity  Turnover (Lacs)      Gain  \n",
              "Date                                                         \n",
              "2010-01-05               38148.0           622.58 -0.005444  \n",
              "2010-01-06               36519.0           595.09  0.013422  \n",
              "2010-01-07               12809.0           211.00  0.006225  \n",
              "2010-01-08               28035.0           459.11 -0.005398  \n",
              "2010-01-11               10566.0           173.40 -0.006312  \n",
              "...                          ...              ...       ...  \n",
              "2016-12-26                3953.0           107.15 -0.001283  \n",
              "2016-12-27               10600.0           286.10 -0.007986  \n",
              "2016-12-28                6050.0           163.44  0.000148  \n",
              "2016-12-29                7649.0           207.87  0.009529  \n",
              "2016-12-30                6513.0           177.65  0.000697  \n",
              "\n",
              "[1738 rows x 9 columns]"
            ],
            "text/html": [
              "\n",
              "  <div id=\"df-15a4cf11-2586-4768-aa8e-b9273d8dbf52\">\n",
              "    <div class=\"colab-df-container\">\n",
              "      <div>\n",
              "<style scoped>\n",
              "    .dataframe tbody tr th:only-of-type {\n",
              "        vertical-align: middle;\n",
              "    }\n",
              "\n",
              "    .dataframe tbody tr th {\n",
              "        vertical-align: top;\n",
              "    }\n",
              "\n",
              "    .dataframe thead th {\n",
              "        text-align: right;\n",
              "    }\n",
              "</style>\n",
              "<table border=\"1\" class=\"dataframe\">\n",
              "  <thead>\n",
              "    <tr style=\"text-align: right;\">\n",
              "      <th></th>\n",
              "      <th>Date</th>\n",
              "      <th>Open</th>\n",
              "      <th>High</th>\n",
              "      <th>Low</th>\n",
              "      <th>Last</th>\n",
              "      <th>Close</th>\n",
              "      <th>Total Trade Quantity</th>\n",
              "      <th>Turnover (Lacs)</th>\n",
              "      <th>Gain</th>\n",
              "    </tr>\n",
              "    <tr>\n",
              "      <th>Date</th>\n",
              "      <th></th>\n",
              "      <th></th>\n",
              "      <th></th>\n",
              "      <th></th>\n",
              "      <th></th>\n",
              "      <th></th>\n",
              "      <th></th>\n",
              "      <th></th>\n",
              "      <th></th>\n",
              "    </tr>\n",
              "  </thead>\n",
              "  <tbody>\n",
              "    <tr>\n",
              "      <th>2010-01-05</th>\n",
              "      <td>2010-01-05</td>\n",
              "      <td>1639.95</td>\n",
              "      <td>1639.95</td>\n",
              "      <td>1611.05</td>\n",
              "      <td>1620.0</td>\n",
              "      <td>1616.80</td>\n",
              "      <td>38148.0</td>\n",
              "      <td>622.58</td>\n",
              "      <td>-0.005444</td>\n",
              "    </tr>\n",
              "    <tr>\n",
              "      <th>2010-01-06</th>\n",
              "      <td>2010-01-06</td>\n",
              "      <td>1618.00</td>\n",
              "      <td>1644.00</td>\n",
              "      <td>1617.00</td>\n",
              "      <td>1639.0</td>\n",
              "      <td>1638.50</td>\n",
              "      <td>36519.0</td>\n",
              "      <td>595.09</td>\n",
              "      <td>0.013422</td>\n",
              "    </tr>\n",
              "    <tr>\n",
              "      <th>2010-01-07</th>\n",
              "      <td>2010-01-07</td>\n",
              "      <td>1645.00</td>\n",
              "      <td>1654.00</td>\n",
              "      <td>1636.00</td>\n",
              "      <td>1648.0</td>\n",
              "      <td>1648.70</td>\n",
              "      <td>12809.0</td>\n",
              "      <td>211.00</td>\n",
              "      <td>0.006225</td>\n",
              "    </tr>\n",
              "    <tr>\n",
              "      <th>2010-01-08</th>\n",
              "      <td>2010-01-08</td>\n",
              "      <td>1650.00</td>\n",
              "      <td>1650.00</td>\n",
              "      <td>1626.55</td>\n",
              "      <td>1640.0</td>\n",
              "      <td>1639.80</td>\n",
              "      <td>28035.0</td>\n",
              "      <td>459.11</td>\n",
              "      <td>-0.005398</td>\n",
              "    </tr>\n",
              "    <tr>\n",
              "      <th>2010-01-11</th>\n",
              "      <td>2010-01-11</td>\n",
              "      <td>1659.00</td>\n",
              "      <td>1694.95</td>\n",
              "      <td>1601.05</td>\n",
              "      <td>1630.0</td>\n",
              "      <td>1629.45</td>\n",
              "      <td>10566.0</td>\n",
              "      <td>173.40</td>\n",
              "      <td>-0.006312</td>\n",
              "    </tr>\n",
              "    <tr>\n",
              "      <th>...</th>\n",
              "      <td>...</td>\n",
              "      <td>...</td>\n",
              "      <td>...</td>\n",
              "      <td>...</td>\n",
              "      <td>...</td>\n",
              "      <td>...</td>\n",
              "      <td>...</td>\n",
              "      <td>...</td>\n",
              "      <td>...</td>\n",
              "    </tr>\n",
              "    <tr>\n",
              "      <th>2016-12-26</th>\n",
              "      <td>2016-12-26</td>\n",
              "      <td>2703.00</td>\n",
              "      <td>2740.00</td>\n",
              "      <td>2677.00</td>\n",
              "      <td>2715.0</td>\n",
              "      <td>2723.50</td>\n",
              "      <td>3953.0</td>\n",
              "      <td>107.15</td>\n",
              "      <td>-0.001283</td>\n",
              "    </tr>\n",
              "    <tr>\n",
              "      <th>2016-12-27</th>\n",
              "      <td>2016-12-27</td>\n",
              "      <td>2722.95</td>\n",
              "      <td>2725.00</td>\n",
              "      <td>2683.00</td>\n",
              "      <td>2692.0</td>\n",
              "      <td>2701.75</td>\n",
              "      <td>10600.0</td>\n",
              "      <td>286.10</td>\n",
              "      <td>-0.007986</td>\n",
              "    </tr>\n",
              "    <tr>\n",
              "      <th>2016-12-28</th>\n",
              "      <td>2016-12-28</td>\n",
              "      <td>2701.75</td>\n",
              "      <td>2718.00</td>\n",
              "      <td>2690.00</td>\n",
              "      <td>2698.0</td>\n",
              "      <td>2702.15</td>\n",
              "      <td>6050.0</td>\n",
              "      <td>163.44</td>\n",
              "      <td>0.000148</td>\n",
              "    </tr>\n",
              "    <tr>\n",
              "      <th>2016-12-29</th>\n",
              "      <td>2016-12-29</td>\n",
              "      <td>2702.05</td>\n",
              "      <td>2739.00</td>\n",
              "      <td>2691.95</td>\n",
              "      <td>2710.0</td>\n",
              "      <td>2727.90</td>\n",
              "      <td>7649.0</td>\n",
              "      <td>207.87</td>\n",
              "      <td>0.009529</td>\n",
              "    </tr>\n",
              "    <tr>\n",
              "      <th>2016-12-30</th>\n",
              "      <td>2016-12-30</td>\n",
              "      <td>2730.00</td>\n",
              "      <td>2740.45</td>\n",
              "      <td>2705.00</td>\n",
              "      <td>2730.0</td>\n",
              "      <td>2729.80</td>\n",
              "      <td>6513.0</td>\n",
              "      <td>177.65</td>\n",
              "      <td>0.000697</td>\n",
              "    </tr>\n",
              "  </tbody>\n",
              "</table>\n",
              "<p>1738 rows × 9 columns</p>\n",
              "</div>\n",
              "      <button class=\"colab-df-convert\" onclick=\"convertToInteractive('df-15a4cf11-2586-4768-aa8e-b9273d8dbf52')\"\n",
              "              title=\"Convert this dataframe to an interactive table.\"\n",
              "              style=\"display:none;\">\n",
              "        \n",
              "  <svg xmlns=\"http://www.w3.org/2000/svg\" height=\"24px\"viewBox=\"0 0 24 24\"\n",
              "       width=\"24px\">\n",
              "    <path d=\"M0 0h24v24H0V0z\" fill=\"none\"/>\n",
              "    <path d=\"M18.56 5.44l.94 2.06.94-2.06 2.06-.94-2.06-.94-.94-2.06-.94 2.06-2.06.94zm-11 1L8.5 8.5l.94-2.06 2.06-.94-2.06-.94L8.5 2.5l-.94 2.06-2.06.94zm10 10l.94 2.06.94-2.06 2.06-.94-2.06-.94-.94-2.06-.94 2.06-2.06.94z\"/><path d=\"M17.41 7.96l-1.37-1.37c-.4-.4-.92-.59-1.43-.59-.52 0-1.04.2-1.43.59L10.3 9.45l-7.72 7.72c-.78.78-.78 2.05 0 2.83L4 21.41c.39.39.9.59 1.41.59.51 0 1.02-.2 1.41-.59l7.78-7.78 2.81-2.81c.8-.78.8-2.07 0-2.86zM5.41 20L4 18.59l7.72-7.72 1.47 1.35L5.41 20z\"/>\n",
              "  </svg>\n",
              "      </button>\n",
              "      \n",
              "  <style>\n",
              "    .colab-df-container {\n",
              "      display:flex;\n",
              "      flex-wrap:wrap;\n",
              "      gap: 12px;\n",
              "    }\n",
              "\n",
              "    .colab-df-convert {\n",
              "      background-color: #E8F0FE;\n",
              "      border: none;\n",
              "      border-radius: 50%;\n",
              "      cursor: pointer;\n",
              "      display: none;\n",
              "      fill: #1967D2;\n",
              "      height: 32px;\n",
              "      padding: 0 0 0 0;\n",
              "      width: 32px;\n",
              "    }\n",
              "\n",
              "    .colab-df-convert:hover {\n",
              "      background-color: #E2EBFA;\n",
              "      box-shadow: 0px 1px 2px rgba(60, 64, 67, 0.3), 0px 1px 3px 1px rgba(60, 64, 67, 0.15);\n",
              "      fill: #174EA6;\n",
              "    }\n",
              "\n",
              "    [theme=dark] .colab-df-convert {\n",
              "      background-color: #3B4455;\n",
              "      fill: #D2E3FC;\n",
              "    }\n",
              "\n",
              "    [theme=dark] .colab-df-convert:hover {\n",
              "      background-color: #434B5C;\n",
              "      box-shadow: 0px 1px 3px 1px rgba(0, 0, 0, 0.15);\n",
              "      filter: drop-shadow(0px 1px 2px rgba(0, 0, 0, 0.3));\n",
              "      fill: #FFFFFF;\n",
              "    }\n",
              "  </style>\n",
              "\n",
              "      <script>\n",
              "        const buttonEl =\n",
              "          document.querySelector('#df-15a4cf11-2586-4768-aa8e-b9273d8dbf52 button.colab-df-convert');\n",
              "        buttonEl.style.display =\n",
              "          google.colab.kernel.accessAllowed ? 'block' : 'none';\n",
              "\n",
              "        async function convertToInteractive(key) {\n",
              "          const element = document.querySelector('#df-15a4cf11-2586-4768-aa8e-b9273d8dbf52');\n",
              "          const dataTable =\n",
              "            await google.colab.kernel.invokeFunction('convertToInteractive',\n",
              "                                                     [key], {});\n",
              "          if (!dataTable) return;\n",
              "\n",
              "          const docLinkHtml = 'Like what you see? Visit the ' +\n",
              "            '<a target=\"_blank\" href=https://colab.research.google.com/notebooks/data_table.ipynb>data table notebook</a>'\n",
              "            + ' to learn more about interactive tables.';\n",
              "          element.innerHTML = '';\n",
              "          dataTable['output_type'] = 'display_data';\n",
              "          await google.colab.output.renderOutput(dataTable, element);\n",
              "          const docLink = document.createElement('div');\n",
              "          docLink.innerHTML = docLinkHtml;\n",
              "          element.appendChild(docLink);\n",
              "        }\n",
              "      </script>\n",
              "    </div>\n",
              "  </div>\n",
              "  "
            ]
          },
          "metadata": {},
          "execution_count": 19
        }
      ]
    },
    {
      "cell_type": "code",
      "source": [
        "df_glaxo = df_glaxo.dropna()\n",
        "df_beml = df_beml.dropna()"
      ],
      "metadata": {
        "id": "01n8jS5wv-Wo"
      },
      "execution_count": 18,
      "outputs": []
    },
    {
      "cell_type": "code",
      "source": [
        "plt.figure(figsize = (8,6))\n",
        "plt.plot(df_glaxo.index,df_glaxo.Gain)\n",
        "plt.xlabel(\"Time\")\n",
        "plt.ylabel(\"Gain\")"
      ],
      "metadata": {
        "colab": {
          "base_uri": "https://localhost:8080/",
          "height": 406
        },
        "id": "wWjL-TX0yXPM",
        "outputId": "14ef7825-e882-4bfc-d3f9-38a02473ee63"
      },
      "execution_count": 24,
      "outputs": [
        {
          "output_type": "execute_result",
          "data": {
            "text/plain": [
              "Text(0, 0.5, 'Gain')"
            ]
          },
          "metadata": {},
          "execution_count": 24
        },
        {
          "output_type": "display_data",
          "data": {
            "text/plain": [
              "<Figure size 576x432 with 1 Axes>"
            ],
            "image/png": "[encoded data removed]"
          },
          "metadata": {
            "needs_background": "light"
          }
        }
      ]
    },
    {
      "cell_type": "code",
      "source": [
        "plt.figure(figsize = (8,6))\n",
        "plt.plot(df_beml.index,df_beml.Gain)\n",
        "plt.xlabel(\"Time\")\n",
        "plt.ylabel(\"Gain\")"
      ],
      "metadata": {
        "colab": {
          "base_uri": "https://localhost:8080/",
          "height": 405
        },
        "id": "AoLy5FC_yXhv",
        "outputId": "ab41a663-3184-4c47-b027-e3c52e781a37"
      },
      "execution_count": 25,
      "outputs": [
        {
          "output_type": "execute_result",
          "data": {
            "text/plain": [
              "Text(0, 0.5, 'Gain')"
            ]
          },
          "metadata": {},
          "execution_count": 25
        },
        {
          "output_type": "display_data",
          "data": {
            "text/plain": [
              "<Figure size 576x432 with 1 Axes>"
            ],
            "image/png": "[encoded data removed]"
          },
          "metadata": {
            "needs_background": "light"
          }
        }
      ]
    },
    {
      "cell_type": "code",
      "source": [
        "sn.distplot(df_glaxo.Gain, label =\"GLAXO\")\n",
        "plt.xlabel(\"Gain\")\n",
        "plt.ylabel(\"Density\")\n",
        "plt.legend()"
      ],
      "metadata": {
        "colab": {
          "base_uri": "https://localhost:8080/",
          "height": 351
        },
        "id": "dnmb9TQdyXz5",
        "outputId": "b8bca240-923f-4f20-9209-2bf5626afbd2"
      },
      "execution_count": 28,
      "outputs": [
        {
          "output_type": "stream",
          "name": "stderr",
          "text": [
            "/usr/local/lib/python3.7/dist-packages/seaborn/distributions.py:2619: FutureWarning: `distplot` is a deprecated function and will be removed in a future version. Please adapt your code to use either `displot` (a figure-level function with similar flexibility) or `histplot` (an axes-level function for histograms).\n",
            "  warnings.warn(msg, FutureWarning)\n"
          ]
        },
        {
          "output_type": "execute_result",
          "data": {
            "text/plain": [
              "<matplotlib.legend.Legend at 0x7feacac9acd0>"
            ]
          },
          "metadata": {},
          "execution_count": 28
        },
        {
          "output_type": "display_data",
          "data": {
            "text/plain": [
              "<Figure size 432x288 with 1 Axes>"
            ],
            "image/png": "[encoded data removed]"
          },
          "metadata": {
            "needs_background": "light"
          }
        }
      ]
    },
    {
      "cell_type": "code",
      "source": [
        "sn.distplot(df_beml.Gain, label =\"BEML\")\n",
        "plt.xlabel(\"Gain\")\n",
        "plt.ylabel(\"Density\")\n",
        "plt.legend()"
      ],
      "metadata": {
        "colab": {
          "base_uri": "https://localhost:8080/",
          "height": 351
        },
        "id": "YfnRzcJC2ApW",
        "outputId": "787d03be-8799-44b1-92e6-07bf505293f7"
      },
      "execution_count": 29,
      "outputs": [
        {
          "output_type": "stream",
          "name": "stderr",
          "text": [
            "/usr/local/lib/python3.7/dist-packages/seaborn/distributions.py:2619: FutureWarning: `distplot` is a deprecated function and will be removed in a future version. Please adapt your code to use either `displot` (a figure-level function with similar flexibility) or `histplot` (an axes-level function for histograms).\n",
            "  warnings.warn(msg, FutureWarning)\n"
          ]
        },
        {
          "output_type": "execute_result",
          "data": {
            "text/plain": [
              "<matplotlib.legend.Legend at 0x7feacac62510>"
            ]
          },
          "metadata": {},
          "execution_count": 29
        },
        {
          "output_type": "display_data",
          "data": {
            "text/plain": [
              "<Figure size 432x288 with 1 Axes>"
            ],
            "image/png": "[encoded data removed]"
          },
          "metadata": {
            "needs_background": "light"
          }
        }
      ]
    },
    {
      "cell_type": "code",
      "source": [
        "print('GlAXO Mean is',round(df_glaxo.Gain.mean(),4))\n",
        "print('GLAXO Standard Deviation is',round(df_glaxo.Gain.std(),4))"
      ],
      "metadata": {
        "colab": {
          "base_uri": "https://localhost:8080/"
        },
        "id": "MoUyn2RG3Rjh",
        "outputId": "58fba3a8-c36e-487a-b75b-dc0513e0ce93"
      },
      "execution_count": 33,
      "outputs": [
        {
          "output_type": "stream",
          "name": "stdout",
          "text": [
            "GlAXO Mean is 0.0004\n",
            "GLAXO Standard Deviation is 0.0134\n"
          ]
        }
      ]
    },
    {
      "cell_type": "code",
      "source": [
        "print('BEML Mean is',round(df_beml.Gain.mean(),4))\n",
        "print('BEML Standard Deviation is',round(df_beml.Gain.std(),4))"
      ],
      "metadata": {
        "colab": {
          "base_uri": "https://localhost:8080/"
        },
        "id": "Tv8HOBcV3R_y",
        "outputId": "9be0dbf7-0f17-41b2-ad6b-273cee391b4d"
      },
      "execution_count": 34,
      "outputs": [
        {
          "output_type": "stream",
          "name": "stdout",
          "text": [
            "BEML Mean is 0.0003\n",
            "BEML Standard Deviation is 0.0264\n"
          ]
        }
      ]
    },
    {
      "cell_type": "code",
      "source": [
        "# probability of making 2% loss or higher in glaxo\n",
        "stats.norm.cdf(-0.02,loc = df_glaxo.Gain.mean(),scale = df_glaxo.Gain.std())\n"
      ],
      "metadata": {
        "colab": {
          "base_uri": "https://localhost:8080/"
        },
        "id": "8hM7RSyC5Suv",
        "outputId": "a34bfe90-2f98-42a1-cf4e-f1a75537a9c8"
      },
      "execution_count": 37,
      "outputs": [
        {
          "output_type": "execute_result",
          "data": {
            "text/plain": [
              "0.06352488667177397"
            ]
          },
          "metadata": {},
          "execution_count": 37
        }
      ]
    },
    {
      "cell_type": "code",
      "source": [
        "# probability of making 2% gain or higher in glaxo\n",
        "1-stats.norm.cdf(0.02,loc = df_glaxo.Gain.mean(),scale = df_glaxo.Gain.std())"
      ],
      "metadata": {
        "colab": {
          "base_uri": "https://localhost:8080/"
        },
        "id": "wYwdRR0TF7Mn",
        "outputId": "1979657e-a4fe-478f-9b13-d0dcc3bdc5b9"
      },
      "execution_count": 38,
      "outputs": [
        {
          "output_type": "execute_result",
          "data": {
            "text/plain": [
              "0.07104511457618568"
            ]
          },
          "metadata": {},
          "execution_count": 38
        }
      ]
    },
    {
      "cell_type": "code",
      "source": [
        "# probability of making 2% loss or higher in beml\n",
        "stats.norm.cdf(-0.02,loc = df_beml.Gain.mean(),scale = df_beml.Gain.std())"
      ],
      "metadata": {
        "colab": {
          "base_uri": "https://localhost:8080/"
        },
        "id": "YweQcTn1GLem",
        "outputId": "86609b3c-faf3-4ad7-d646-79f01c355e70"
      },
      "execution_count": 39,
      "outputs": [
        {
          "output_type": "execute_result",
          "data": {
            "text/plain": [
              "0.22155987503755292"
            ]
          },
          "metadata": {},
          "execution_count": 39
        }
      ]
    },
    {
      "cell_type": "code",
      "source": [
        "# probability of making 2% gain or higher\n",
        "1-stats.norm.cdf(0.02,loc = df_beml.Gain.mean(),scale = df_beml.Gain.std())"
      ],
      "metadata": {
        "colab": {
          "base_uri": "https://localhost:8080/"
        },
        "id": "W_xBpg9gGL86",
        "outputId": "c9fc1d4e-b37d-45a9-f58d-4bcd42284751"
      },
      "execution_count": 40,
      "outputs": [
        {
          "output_type": "execute_result",
          "data": {
            "text/plain": [
              "0.22769829484075343"
            ]
          },
          "metadata": {},
          "execution_count": 40
        }
      ]
    },
    {
      "cell_type": "code",
      "source": [
        "# calculation of confidence interval at 95%\n",
        "df_glaxo_ci = stats.norm.interval(0.95, loc = df_glaxo.Gain.mean(), scale = df_glaxo.Gain.std())\n",
        "print(\"Gain for GLAXO at 95% confidence interval is \", np.round(df_glaxo_ci,4))"
      ],
      "metadata": {
        "colab": {
          "base_uri": "https://localhost:8080/"
        },
        "id": "tvu2KuMnKF32",
        "outputId": "c327fd23-2bc8-4f5e-a5fb-a0683dc795d7"
      },
      "execution_count": 44,
      "outputs": [
        {
          "output_type": "stream",
          "name": "stdout",
          "text": [
            "Gain for GLAXO at 95% confidence interval is  [-0.0258  0.0266]\n"
          ]
        }
      ]
    },
    {
      "cell_type": "code",
      "source": [
        "\n",
        "df_beml_ci = stats.norm.interval(0.95, loc = df_beml.Gain.mean(), scale = df_beml.Gain.std())\n",
        "print(\"Gain for BEML at 95% confidence interval is \", np.round(df_beml_ci,4))"
      ],
      "metadata": {
        "colab": {
          "base_uri": "https://localhost:8080/"
        },
        "id": "35Ywn_LNKGJN",
        "outputId": "5548656a-f34d-4816-ac87-f31a5797dc14"
      },
      "execution_count": 45,
      "outputs": [
        {
          "output_type": "stream",
          "name": "stdout",
          "text": [
            "Gain for BEML at 95% confidence interval is  [-0.0515  0.0521]\n"
          ]
        }
      ]
    }
  ]
}